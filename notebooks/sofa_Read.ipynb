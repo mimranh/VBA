{
 "cells": [
  {
   "cell_type": "code",
   "execution_count": 1,
   "metadata": {},
   "outputs": [
    {
     "name": "stdout",
     "output_type": "stream",
     "text": [
      "<module 'sofa' from 'c:\\\\myenv\\\\lib\\\\site-packages\\\\sofa\\\\__init__.py'>\n"
     ]
    }
   ],
   "source": [
    "import sys\n",
    "sys.path.insert(0, '../../src')\n",
    "import sofa\n",
    "print(sofa)"
   ]
  },
  {
   "cell_type": "code",
   "execution_count": 2,
   "metadata": {},
   "outputs": [],
   "source": [
    "import matplotlib.pyplot as plt\n",
    "from mpl_toolkits import mplot3d\n",
    "import numpy as np\n",
    "%matplotlib inline"
   ]
  },
  {
   "cell_type": "code",
   "execution_count": 3,
   "metadata": {},
   "outputs": [],
   "source": [
    "def plot_coordinates(coords, title):\n",
    "    x0 = coords\n",
    "    n0 = coords\n",
    "    fig = plt.figure(figsize=(15, 15))\n",
    "    ax = fig.add_subplot(111, projection='3d')\n",
    "    q = ax.quiver(x0[:, 0], x0[:, 1], x0[:, 2], n0[:, 0],\n",
    "                  n0[:, 1], n0[:, 2], length=0.1)\n",
    "    plt.xlabel('x (m)')\n",
    "    plt.ylabel('y (m)')\n",
    "    plt.title(title)\n",
    "    return q"
   ]
  },
  {
   "cell_type": "code",
   "execution_count": 9,
   "metadata": {},
   "outputs": [
    {
     "ename": "FileNotFoundError",
     "evalue": "[Errno 2] No such file or directory: b'RIEC_HRTF/RIEC_hrir_subject_002.sofa'",
     "output_type": "error",
     "traceback": [
      "\u001b[1;31m---------------------------------------------------------------------------\u001b[0m",
      "\u001b[1;31mFileNotFoundError\u001b[0m                         Traceback (most recent call last)",
      "\u001b[1;32m~\\AppData\\Local\\Temp/ipykernel_17180/801375274.py\u001b[0m in \u001b[0;36m<module>\u001b[1;34m\u001b[0m\n\u001b[0;32m      1\u001b[0m \u001b[0mHRTF_path\u001b[0m \u001b[1;33m=\u001b[0m \u001b[1;34m\"RIEC_HRTF/RIEC_hrir_subject_002.sofa\"\u001b[0m\u001b[1;33m\u001b[0m\u001b[1;33m\u001b[0m\u001b[0m\n\u001b[1;32m----> 2\u001b[1;33m \u001b[0mHRTF\u001b[0m \u001b[1;33m=\u001b[0m \u001b[0msofa\u001b[0m\u001b[1;33m.\u001b[0m\u001b[0mDatabase\u001b[0m\u001b[1;33m.\u001b[0m\u001b[0mopen\u001b[0m\u001b[1;33m(\u001b[0m\u001b[0mHRTF_path\u001b[0m\u001b[1;33m,\u001b[0m \u001b[0mmode\u001b[0m\u001b[1;33m=\u001b[0m\u001b[1;34m'r'\u001b[0m\u001b[1;33m)\u001b[0m\u001b[1;33m\u001b[0m\u001b[1;33m\u001b[0m\u001b[0m\n\u001b[0m\u001b[0;32m      3\u001b[0m \u001b[0mHRTF\u001b[0m\u001b[1;33m.\u001b[0m\u001b[0mMetadata\u001b[0m\u001b[1;33m.\u001b[0m\u001b[0mdump\u001b[0m\u001b[1;33m(\u001b[0m\u001b[1;33m)\u001b[0m\u001b[1;33m\u001b[0m\u001b[1;33m\u001b[0m\u001b[0m\n\u001b[0;32m      4\u001b[0m \u001b[1;33m\u001b[0m\u001b[0m\n\u001b[0;32m      5\u001b[0m \u001b[1;31m# plot Source positions\u001b[0m\u001b[1;33m\u001b[0m\u001b[1;33m\u001b[0m\u001b[1;33m\u001b[0m\u001b[0m\n",
      "\u001b[1;32mc:\\myenv\\lib\\site-packages\\sofa\\_database.py\u001b[0m in \u001b[0;36mopen\u001b[1;34m(path, mode, parallel)\u001b[0m\n\u001b[0;32m    104\u001b[0m             \u001b[1;32mreturn\u001b[0m \u001b[1;32mNone\u001b[0m\u001b[1;33m\u001b[0m\u001b[1;33m\u001b[0m\u001b[0m\n\u001b[0;32m    105\u001b[0m         \u001b[0msofa\u001b[0m \u001b[1;33m=\u001b[0m \u001b[0mDatabase\u001b[0m\u001b[1;33m(\u001b[0m\u001b[1;33m)\u001b[0m\u001b[1;33m\u001b[0m\u001b[1;33m\u001b[0m\u001b[0m\n\u001b[1;32m--> 106\u001b[1;33m         \u001b[0msofa\u001b[0m\u001b[1;33m.\u001b[0m\u001b[0mdataset\u001b[0m \u001b[1;33m=\u001b[0m \u001b[0mncdf\u001b[0m\u001b[1;33m.\u001b[0m\u001b[0mDataset\u001b[0m\u001b[1;33m(\u001b[0m\u001b[0mpath\u001b[0m\u001b[1;33m,\u001b[0m \u001b[0mmode\u001b[0m\u001b[1;33m=\u001b[0m\u001b[0mmode\u001b[0m\u001b[1;33m,\u001b[0m \u001b[0mparallel\u001b[0m\u001b[1;33m=\u001b[0m\u001b[0mparallel\u001b[0m\u001b[1;33m)\u001b[0m\u001b[1;33m\u001b[0m\u001b[1;33m\u001b[0m\u001b[0m\n\u001b[0m\u001b[0;32m    107\u001b[0m         \u001b[1;32mif\u001b[0m \u001b[0msofa\u001b[0m\u001b[1;33m.\u001b[0m\u001b[0mdataset\u001b[0m\u001b[1;33m.\u001b[0m\u001b[0mSOFAConventions\u001b[0m \u001b[1;32min\u001b[0m \u001b[0mconventions\u001b[0m\u001b[1;33m.\u001b[0m\u001b[0mimplemented\u001b[0m\u001b[1;33m(\u001b[0m\u001b[1;33m)\u001b[0m\u001b[1;33m:\u001b[0m\u001b[1;33m\u001b[0m\u001b[1;33m\u001b[0m\u001b[0m\n\u001b[0;32m    108\u001b[0m             \u001b[0msofa\u001b[0m\u001b[1;33m.\u001b[0m\u001b[0m_convention\u001b[0m \u001b[1;33m=\u001b[0m \u001b[0mconventions\u001b[0m\u001b[1;33m.\u001b[0m\u001b[0mList\u001b[0m\u001b[1;33m[\u001b[0m\u001b[0msofa\u001b[0m\u001b[1;33m.\u001b[0m\u001b[0mdataset\u001b[0m\u001b[1;33m.\u001b[0m\u001b[0mSOFAConventions\u001b[0m\u001b[1;33m]\u001b[0m\u001b[1;33m(\u001b[0m\u001b[1;33m)\u001b[0m\u001b[1;33m\u001b[0m\u001b[1;33m\u001b[0m\u001b[0m\n",
      "\u001b[1;32msrc\\netCDF4\\_netCDF4.pyx\u001b[0m in \u001b[0;36mnetCDF4._netCDF4.Dataset.__init__\u001b[1;34m()\u001b[0m\n",
      "\u001b[1;32msrc\\netCDF4\\_netCDF4.pyx\u001b[0m in \u001b[0;36mnetCDF4._netCDF4._ensure_nc_success\u001b[1;34m()\u001b[0m\n",
      "\u001b[1;31mFileNotFoundError\u001b[0m: [Errno 2] No such file or directory: b'RIEC_HRTF/RIEC_hrir_subject_002.sofa'"
     ]
    }
   ],
   "source": [
    "HRTF_path = \"RIEC_HRTF/RIEC_hrir_subject_002.sofa\"\n",
    "HRTF = sofa.Database.open(HRTF_path, mode='r')\n",
    "HRTF.Metadata.dump()\n",
    "\n",
    "# plot Source positions\n",
    "source_positions = HRTF.Source.Position.get_values(system=\"cartesian\")\n",
    "plot_coordinates(source_positions, 'Source positions');\n",
    "\n",
    "# plot Data.IR at M=5 for E=0\n",
    "measurement = 5\n",
    "emitter = 0\n",
    "legend = []\n",
    "\n",
    "t = np.arange(0,HRTF.Dimensions.N)*HRTF.Data.SamplingRate.get_values(indices={\"M\":measurement})\n",
    "\n",
    "plt.figure(figsize=(15, 5))\n",
    "for receiver in np.arange(HRTF.Dimensions.R):\n",
    "    plt.plot(t, HRTF.Data.IR.get_values(indices={\"M\":measurement, \"R\":receiver, \"E\":emitter}))\n",
    "    legend.append('Receiver {0}'.format(receiver))\n",
    "plt.title('HRIR at M={0} for emitter {1}'.format(measurement, emitter))\n",
    "plt.legend(legend)\n",
    "plt.xlabel('$t$ in s')\n",
    "plt.ylabel(r'$h(t)$')\n",
    "plt.grid()\n",
    "\n",
    "HRTF.close()"
   ]
  }
 ],
 "metadata": {
  "interpreter": {
   "hash": "675d3bf2316448f23b4102f90411a5a6d08b8c9f3a94eda9c37a705eb5005fb5"
  },
  "kernelspec": {
   "display_name": "Python 3.8.10 64-bit ('myenv': venv)",
   "language": "python",
   "name": "python3"
  },
  "language_info": {
   "codemirror_mode": {
    "name": "ipython",
    "version": 3
   },
   "file_extension": ".py",
   "mimetype": "text/x-python",
   "name": "python",
   "nbconvert_exporter": "python",
   "pygments_lexer": "ipython3",
   "version": "3.8.10"
  },
  "orig_nbformat": 4
 },
 "nbformat": 4,
 "nbformat_minor": 2
}
